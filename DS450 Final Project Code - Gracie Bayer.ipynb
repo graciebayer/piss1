{
 "cells": [
  {
   "cell_type": "code",
   "execution_count": 1,
   "id": "77f795ef",
   "metadata": {},
   "outputs": [],
   "source": [
    "import os\n",
    "import pandas as pd\n",
    "import numpy as np\n",
    "import matplotlib.pyplot as plt\n",
    "import PIL\n",
    "from PIL import Image"
   ]
  },
  {
   "cell_type": "code",
   "execution_count": 98,
   "id": "5b243dd9",
   "metadata": {},
   "outputs": [],
   "source": [
    "# This function wi\n",
    "def get_directory_info(directory):\n",
    "    sizes = list()\n",
    "    widths = []\n",
    "    heights = []\n",
    "    \n",
    "    for filename in os.listdir(directory):\n",
    "        f = os.path.join(directory, filename)\n",
    "        if os.path.isfile(f):\n",
    "            if(f.endswith(\".jpg\")):\n",
    "               size = round(os.path.getsize(f)/1023) #This will convert the size to kilobytes\n",
    "               sizes.append(size)\n",
    "                \n",
    "               img_path = os.path.join(f) # Making image file path\n",
    "               im = Image.open(img_path)\n",
    "               widths.append(im.size[0])\n",
    "               heights.append(im.size[1])\n",
    "\n",
    "            \n",
    "    AVG_HEIGHT = round(sum(heights)/len(heights))\n",
    "    AVG_WIDTH = round(sum(widths)/len(widths))\n",
    "    \n",
    "    return (np.mean(sizes), np.max(sizes), np.min(sizes), np.std(sizes), AVG_HEIGHT, AVG_WIDTH) # will return the basic stats for the directory"
   ]
  },
  {
   "cell_type": "code",
   "execution_count": 99,
   "id": "61518afa",
   "metadata": {},
   "outputs": [],
   "source": [
    "m1, m2, m3, s, w, h = get_directory_info(directory)"
   ]
  },
  {
   "cell_type": "code",
   "execution_count": 100,
   "id": "15a030b3-4edd-42e8-b575-d5172e5e3705",
   "metadata": {},
   "outputs": [
    {
     "name": "stdout",
     "output_type": "stream",
     "text": [
      "61.77777777777778 138 29 37.846995412164425 574 589\n"
     ]
    }
   ],
   "source": [
    "print(m1, m2, m3, s, w, h)"
   ]
  },
  {
   "cell_type": "code",
   "execution_count": 25,
   "id": "774ad5b8",
   "metadata": {},
   "outputs": [],
   "source": [
    "directory = 'artist'"
   ]
  },
  {
   "cell_type": "code",
   "execution_count": 26,
   "id": "9942a5d5-fb35-4064-b15b-3939a5e78164",
   "metadata": {},
   "outputs": [],
   "source": [
    "def get_raw_data(directory,category):\n",
    "    local_data = list()\n",
    "     \n",
    "    for filename in os.listdir(directory):\n",
    "        f = os.path.join(directory, filename)\n",
    "        if os.path.isfile(f):\n",
    "            if(f.endswith(\".jpg\")):\n",
    "               size = round(os.path.getsize(f)/1023) #This will convert the size to kilobytes\n",
    "                              \n",
    "               img_path = os.path.join(f) # Making image file path\n",
    "               im = Image.open(img_path)\n",
    "               \n",
    "               local_data.append([category, f, size, im.size[0], im.size[1]])\n",
    "       \n",
    "    return (local_data) # will return the "
   ]
  },
  {
   "cell_type": "code",
   "execution_count": 27,
   "id": "d280b3ff-e846-40bf-8bbf-ad4093840a66",
   "metadata": {},
   "outputs": [],
   "source": [
    "ld = get_raw_data(directory, 'ARTIST.cups')"
   ]
  },
  {
   "cell_type": "code",
   "execution_count": 28,
   "id": "c01f23b1-ce90-4007-8a5f-4a467e0a3577",
   "metadata": {},
   "outputs": [
    {
     "data": {
      "text/plain": [
       "[['ARTIST.cups', 'artist\\\\14ceb76f3d33990052227fda8cc537dd.jpg', 48, 563, 593],\n",
       " ['ARTIST.cups', 'artist\\\\26cc3e62ec66c44da882a6ca43fd0a0b.jpg', 29, 442, 324],\n",
       " ['ARTIST.cups', 'artist\\\\2c0aa1f0dfe1f62d5bb6e0dcd0de08cb.jpg', 31, 474, 474],\n",
       " ['ARTIST.cups', 'artist\\\\51g0MX+SR5L._SY780_.jpg', 50, 500, 496]]"
      ]
     },
     "execution_count": 28,
     "metadata": {},
     "output_type": "execute_result"
    }
   ],
   "source": [
    "ld"
   ]
  },
  {
   "cell_type": "code",
   "execution_count": 29,
   "id": "2c8c34e5-d664-4694-8ef2-a32542eb106d",
   "metadata": {},
   "outputs": [],
   "source": [
    "artist_cups = pd.DataFrame(ld)"
   ]
  },
  {
   "cell_type": "code",
   "execution_count": 30,
   "id": "6e5a5231-b298-42d5-ab4c-1f9f82847ad7",
   "metadata": {},
   "outputs": [
    {
     "name": "stdout",
     "output_type": "stream",
     "text": [
      "['ARTIST.cups', 'artist\\\\14ceb76f3d33990052227fda8cc537dd.jpg', 48, 563, 593]\n",
      "['ARTIST.cups', 'artist\\\\26cc3e62ec66c44da882a6ca43fd0a0b.jpg', 29, 442, 324]\n",
      "['ARTIST.cups', 'artist\\\\2c0aa1f0dfe1f62d5bb6e0dcd0de08cb.jpg', 31, 474, 474]\n",
      "['ARTIST.cups', 'artist\\\\51g0MX+SR5L._SY780_.jpg', 50, 500, 496]\n"
     ]
    }
   ],
   "source": [
    "for x in ld:\n",
    "    print(x)"
   ]
  },
  {
   "cell_type": "code",
   "execution_count": 24,
   "id": "b9b29ee3-3cfc-4c33-8d5f-a46a2fa95a7a",
   "metadata": {},
   "outputs": [
    {
     "data": {
      "text/html": [
       "<div>\n",
       "<style scoped>\n",
       "    .dataframe tbody tr th:only-of-type {\n",
       "        vertical-align: middle;\n",
       "    }\n",
       "\n",
       "    .dataframe tbody tr th {\n",
       "        vertical-align: top;\n",
       "    }\n",
       "\n",
       "    .dataframe thead th {\n",
       "        text-align: right;\n",
       "    }\n",
       "</style>\n",
       "<table border=\"1\" class=\"dataframe\">\n",
       "  <thead>\n",
       "    <tr style=\"text-align: right;\">\n",
       "      <th></th>\n",
       "      <th>0</th>\n",
       "      <th>1</th>\n",
       "      <th>2</th>\n",
       "      <th>3</th>\n",
       "      <th>4</th>\n",
       "    </tr>\n",
       "  </thead>\n",
       "  <tbody>\n",
       "    <tr>\n",
       "      <th>0</th>\n",
       "      <td>DALLE.cups</td>\n",
       "      <td>generated\\51x0zsxJsvL._SY780_.jpg</td>\n",
       "      <td>52</td>\n",
       "      <td>499</td>\n",
       "      <td>500</td>\n",
       "    </tr>\n",
       "    <tr>\n",
       "      <th>1</th>\n",
       "      <td>DALLE.cups</td>\n",
       "      <td>generated\\7da86c9d687cbe4cbfc15baa23c76ad2.jpg</td>\n",
       "      <td>123</td>\n",
       "      <td>564</td>\n",
       "      <td>844</td>\n",
       "    </tr>\n",
       "    <tr>\n",
       "      <th>2</th>\n",
       "      <td>DALLE.cups</td>\n",
       "      <td>generated\\9aa7b0b97ebad9254aeabbfbeff81155.jpg</td>\n",
       "      <td>34</td>\n",
       "      <td>499</td>\n",
       "      <td>499</td>\n",
       "    </tr>\n",
       "    <tr>\n",
       "      <th>3</th>\n",
       "      <td>DALLE.cups</td>\n",
       "      <td>generated\\9f045afcbaa1cc7836baa3bca3c1801e.jpg</td>\n",
       "      <td>138</td>\n",
       "      <td>1024</td>\n",
       "      <td>768</td>\n",
       "    </tr>\n",
       "    <tr>\n",
       "      <th>4</th>\n",
       "      <td>DALLE.cups</td>\n",
       "      <td>generated\\9f1e957c5d64945391f6e8a8e6903e01.jpg</td>\n",
       "      <td>51</td>\n",
       "      <td>736</td>\n",
       "      <td>667</td>\n",
       "    </tr>\n",
       "  </tbody>\n",
       "</table>\n",
       "</div>"
      ],
      "text/plain": [
       "            0                                               1    2     3    4\n",
       "0  DALLE.cups               generated\\51x0zsxJsvL._SY780_.jpg   52   499  500\n",
       "1  DALLE.cups  generated\\7da86c9d687cbe4cbfc15baa23c76ad2.jpg  123   564  844\n",
       "2  DALLE.cups  generated\\9aa7b0b97ebad9254aeabbfbeff81155.jpg   34   499  499\n",
       "3  DALLE.cups  generated\\9f045afcbaa1cc7836baa3bca3c1801e.jpg  138  1024  768\n",
       "4  DALLE.cups  generated\\9f1e957c5d64945391f6e8a8e6903e01.jpg   51   736  667"
      ]
     },
     "execution_count": 24,
     "metadata": {},
     "output_type": "execute_result"
    }
   ],
   "source": [
    "dalle_cups.head()"
   ]
  },
  {
   "cell_type": "code",
   "execution_count": 31,
   "id": "6a15699c-0c91-4d17-b1c7-a2c2ec5cd01c",
   "metadata": {},
   "outputs": [
    {
     "data": {
      "text/html": [
       "<div>\n",
       "<style scoped>\n",
       "    .dataframe tbody tr th:only-of-type {\n",
       "        vertical-align: middle;\n",
       "    }\n",
       "\n",
       "    .dataframe tbody tr th {\n",
       "        vertical-align: top;\n",
       "    }\n",
       "\n",
       "    .dataframe thead th {\n",
       "        text-align: right;\n",
       "    }\n",
       "</style>\n",
       "<table border=\"1\" class=\"dataframe\">\n",
       "  <thead>\n",
       "    <tr style=\"text-align: right;\">\n",
       "      <th></th>\n",
       "      <th>0</th>\n",
       "      <th>1</th>\n",
       "      <th>2</th>\n",
       "      <th>3</th>\n",
       "      <th>4</th>\n",
       "    </tr>\n",
       "  </thead>\n",
       "  <tbody>\n",
       "    <tr>\n",
       "      <th>0</th>\n",
       "      <td>ARTIST.cups</td>\n",
       "      <td>artist\\14ceb76f3d33990052227fda8cc537dd.jpg</td>\n",
       "      <td>48</td>\n",
       "      <td>563</td>\n",
       "      <td>593</td>\n",
       "    </tr>\n",
       "    <tr>\n",
       "      <th>1</th>\n",
       "      <td>ARTIST.cups</td>\n",
       "      <td>artist\\26cc3e62ec66c44da882a6ca43fd0a0b.jpg</td>\n",
       "      <td>29</td>\n",
       "      <td>442</td>\n",
       "      <td>324</td>\n",
       "    </tr>\n",
       "    <tr>\n",
       "      <th>2</th>\n",
       "      <td>ARTIST.cups</td>\n",
       "      <td>artist\\2c0aa1f0dfe1f62d5bb6e0dcd0de08cb.jpg</td>\n",
       "      <td>31</td>\n",
       "      <td>474</td>\n",
       "      <td>474</td>\n",
       "    </tr>\n",
       "    <tr>\n",
       "      <th>3</th>\n",
       "      <td>ARTIST.cups</td>\n",
       "      <td>artist\\51g0MX+SR5L._SY780_.jpg</td>\n",
       "      <td>50</td>\n",
       "      <td>500</td>\n",
       "      <td>496</td>\n",
       "    </tr>\n",
       "  </tbody>\n",
       "</table>\n",
       "</div>"
      ],
      "text/plain": [
       "             0                                            1   2    3    4\n",
       "0  ARTIST.cups  artist\\14ceb76f3d33990052227fda8cc537dd.jpg  48  563  593\n",
       "1  ARTIST.cups  artist\\26cc3e62ec66c44da882a6ca43fd0a0b.jpg  29  442  324\n",
       "2  ARTIST.cups  artist\\2c0aa1f0dfe1f62d5bb6e0dcd0de08cb.jpg  31  474  474\n",
       "3  ARTIST.cups               artist\\51g0MX+SR5L._SY780_.jpg  50  500  496"
      ]
     },
     "execution_count": 31,
     "metadata": {},
     "output_type": "execute_result"
    }
   ],
   "source": [
    "artist_cups"
   ]
  },
  {
   "cell_type": "code",
   "execution_count": 34,
   "id": "2371dcea-bbe2-4fb1-9eef-2027c88e25dc",
   "metadata": {},
   "outputs": [],
   "source": [
    "df = pd.concat([dalle_cups, artist_cups])"
   ]
  },
  {
   "cell_type": "code",
   "execution_count": 42,
   "id": "5171005b-3f2b-4b62-8546-bb60e35677f1",
   "metadata": {},
   "outputs": [],
   "source": [
    "df.columns = ['category', 'filename','size','height','width']"
   ]
  },
  {
   "cell_type": "code",
   "execution_count": 44,
   "id": "ee450884-e33a-4fdd-9ad3-e20aa694bd19",
   "metadata": {},
   "outputs": [
    {
     "data": {
      "text/plain": [
       "<AxesSubplot:xlabel='category'>"
      ]
     },
     "execution_count": 44,
     "metadata": {},
     "output_type": "execute_result"
    },
    {
     "data": {
      "image/png": "[encoded data removed]",
      "text/plain": [
       "<Figure size 432x288 with 1 Axes>"
      ]
     },
     "metadata": {
      "needs_background": "light"
     },
     "output_type": "display_data"
    }
   ],
   "source": [
    "df['size'].groupby(df['category']).mean().plot(kind='bar')"
   ]
  },
  {
   "cell_type": "code",
   "execution_count": 45,
   "id": "a15daa86-3e83-41b6-a46a-7b264c61fd0b",
   "metadata": {},
   "outputs": [
    {
     "data": {
      "text/plain": [
       "61.77777777777778"
      ]
     },
     "execution_count": 45,
     "metadata": {},
     "output_type": "execute_result"
    }
   ],
   "source": [
    "np.mean(df['size'])"
   ]
  },
  {
   "cell_type": "code",
   "execution_count": null,
   "id": "955e7c88-8982-4c06-9dbb-fc52b6a4f169",
   "metadata": {},
   "outputs": [],
   "source": []
  }
 ],
 "metadata": {
  "kernelspec": {
   "display_name": "Python 3 (ipykernel)",
   "language": "python",
   "name": "python3"
  },
  "language_info": {
   "codemirror_mode": {
    "name": "ipython",
    "version": 3
   },
   "file_extension": ".py",
   "mimetype": "text/x-python",
   "name": "python",
   "nbconvert_exporter": "python",
   "pygments_lexer": "ipython3",
   "version": "3.9.12"
  }
 },
 "nbformat": 4,
 "nbformat_minor": 5
}
